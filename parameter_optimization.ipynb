{
 "cells": [
  {
   "cell_type": "code",
   "execution_count": 152,
   "metadata": {},
   "outputs": [],
   "source": [
    "import os\n",
    "import pandas as pd\n",
    "import numpy as np\n",
    "import matplotlib.pyplot as plt\n",
    "from tqdm import tqdm"
   ]
  },
  {
   "cell_type": "code",
   "execution_count": 153,
   "metadata": {},
   "outputs": [],
   "source": [
    "# True if you want to filter out stim data, False if you want to keep all data\n",
    "filter_out_stim = False\n",
    "\n",
    "# True if you want keep ONLY stim data, False if you want to keep all data\n",
    "filter_in_stim = False"
   ]
  },
  {
   "cell_type": "code",
   "execution_count": 154,
   "metadata": {},
   "outputs": [],
   "source": [
    "# File management\n",
    "side = 'CP3Lt'\n",
    "base_path = '/data_store0/human/pcs_chronic_pain/CP3/{}/data/rawdata/'.format(side)\n",
    "all_sessions = os.listdir(base_path)\n",
    "cl_sessions = ['Session_2021_01_12_Tuesday/',\n",
    "               'Session_2021_01_22_Friday/',\n",
    "               'Session_2021_01_26_Tuesday/']\n",
    "\n",
    "# Compile all device data files into a single list\n",
    "cl_data_files = []\n",
    "for s in cl_sessions:\n",
    "    session_files = os.listdir(base_path + s)\n",
    "    session_recordings = [x for x in session_files if '.txt' in x and 'LOG' not in x]\n",
    "    for r in session_recordings:\n",
    "        cl_data_files.append(base_path + s + r)"
   ]
  },
  {
   "cell_type": "code",
   "execution_count": 155,
   "metadata": {},
   "outputs": [],
   "source": [
    "# Function to load a recording into a pandas dataframe\n",
    "def load_recording(fp,\n",
    "                   filter_out_stim,\n",
    "                   filter_in_stim,\n",
    "                   verbose=False):\n",
    "    \"\"\"\n",
    "    :param fp: file path to a recording txt file\n",
    "    :param filter_out_stim: boolean to remove stim data\n",
    "    :param filter_in_stim: boolean to keep only stim data\n",
    "    :param verbose: boolean to print dataframe info\n",
    "    \"\"\"\n",
    "    df = pd.read_csv(fp, header=None)\n",
    "    df.columns = ['ch1', 'ch2', 'ch3', 'ch4', 'lda_distance', 'detection']\n",
    "    if filter_out_stim:\n",
    "        df = df[df['ch1'] < 1000] \n",
    "    if filter_in_stim:\n",
    "        df = df[df['ch1'] > 1000]\n",
    "    if verbose:\n",
    "        print('Number of rows: {}'.format(df.shape[0]))\n",
    "        print(df.head())\n",
    "    return df"
   ]
  },
  {
   "cell_type": "markdown",
   "metadata": {},
   "source": [
    "### Sensing Channels for CP3 "
   ]
  },
  {
   "cell_type": "markdown",
   "metadata": {},
   "source": [
    "![CL Channels](img/cl_channels.jpeg)"
   ]
  },
  {
   "cell_type": "markdown",
   "metadata": {},
   "source": [
    "### Example XML file for CP3 "
   ]
  },
  {
   "cell_type": "markdown",
   "metadata": {},
   "source": [
    "<img src=\"img/example_xml.png\" alt=\"Drawing\" style=\"width: 300px;\"/>"
   ]
  },
  {
   "cell_type": "markdown",
   "metadata": {},
   "source": [
    "### LDA Calculations"
   ]
  },
  {
   "cell_type": "markdown",
   "metadata": {},
   "source": [
    "$\\begin{bmatrix}\n",
    "    NormX_{1} \\\\\n",
    "    NormX_{2} \\\\\n",
    "    NormX_{3} \\\\\n",
    "    NormX_{4}\n",
    "  \\end{bmatrix} = \\left(\\begin{bmatrix}\n",
    "    X_{1} \\\\\n",
    "    X_{2} \\\\\n",
    "    X_{3} \\\\\n",
    "    X_{4}\n",
    "  \\end{bmatrix} - \\begin{bmatrix}\n",
    "    NormConstA_{1} \\\\\n",
    "    NormConstA_{2} \\\\\n",
    "    NormConstA_{3} \\\\\n",
    "    NormConstA_{4}\n",
    "    \\end{bmatrix}\\right) .* \\begin{bmatrix}\n",
    "    NormConstB_{1} \\\\\n",
    "    NormConstB_{2} \\\\\n",
    "    NormConstB_{3} \\\\\n",
    "    NormConstB_{4}\n",
    "    \\end{bmatrix}\n",
    "  $\n",
    "  \n",
    "$\n",
    "Detector = -\\left((W_1 \\hspace{0.2cm} W_2 \\hspace{0.2cm} W_3 \\hspace{0.2cm} W_4)\\begin{bmatrix}\n",
    "    NormX_{1} \\\\\n",
    "    NormX_{2} \\\\\n",
    "    NormX_{3} \\\\\n",
    "    NormX_{4}\n",
    "    \\end{bmatrix} - b\\right)\n",
    "$"
   ]
  },
  {
   "cell_type": "code",
   "execution_count": 156,
   "metadata": {},
   "outputs": [],
   "source": [
    "# Default weight vector\n",
    "# weights = np.array([-1, -1, -1, -1])\n",
    "\n",
    "# Weight vector for ONLY feature input\n",
    "# weights = np.array([0, 0, -1, 0])\n",
    "\n",
    "# Weight vector for feature AND stim channel inputs\n",
    "weights = np.array([1, 0, -1, 0])\n",
    "\n",
    "def calc_lda(x,\n",
    "             b,\n",
    "             weights=weights,\n",
    "             verbose=False):\n",
    "    \"\"\"\n",
    "    :param x: n x 6 recording dataframe\n",
    "    :param b: scalar threshold in LDA equation\n",
    "    :param weights: 1 x 4 weight vector \n",
    "    :param verbose: boolean for printing lda distances\n",
    "    :return: lda distances \n",
    "    \"\"\"\n",
    "    x = x.iloc[:, :4] # Use only the 4 sensing channels\n",
    "    norm_const_a = np.array([0, 0, 0, 0])\n",
    "    norm_const_b = np.array([1, 1, 1, 1])\n",
    "    lda_distances = []\n",
    "    for i in range(x.shape[0]):\n",
    "        norm_x = (x.iloc[i] - norm_const_a) * norm_const_b\n",
    "        dist = -(np.dot(weights, norm_x) - b)\n",
    "        if verbose:\n",
    "            print(dist)\n",
    "        lda_distances.append(dist)\n",
    "    return lda_distances\n",
    "\n",
    "def moving_average(x, w):\n",
    "    \"\"\"\n",
    "    :param x: 1d input signal\n",
    "    :param w: number of samples to smooth over\n",
    "    :return: moving average of the input signal \n",
    "    \"\"\"\n",
    "    return np.convolve(x, np.ones(w), 'valid') / w\n",
    "\n",
    "def load_recording_and_calc_lda(fp,\n",
    "                                b,\n",
    "                                filter_out_stim,\n",
    "                                filter_in_stim,\n",
    "                                w=5,\n",
    "                                smooth=False,\n",
    "                                verbose=False):\n",
    "    \"\"\"\n",
    "    :param fp: filepath to a recording txt file\n",
    "    :param b: threshold for LDA equation\n",
    "    :param w: smoothing window\n",
    "    :param smooth: boolean to perform smoothing\n",
    "    :param verbose: boolean to print outputs\n",
    "    \"\"\"\n",
    "    df = load_recording(fp,\n",
    "                        filter_out_stim,\n",
    "                        filter_in_stim,\n",
    "                        verbose)\n",
    "    lda_distances = calc_lda(df, b, weights, verbose)\n",
    "    if smooth:\n",
    "        lda_distances = moving_average(lda_distances, w)\n",
    "    return lda_distances"
   ]
  },
  {
   "cell_type": "markdown",
   "metadata": {},
   "source": [
    "### Threshold (b) Determination\n",
    "##### Heuristic: LDA distance distribution should be centered around 0"
   ]
  },
  {
   "cell_type": "code",
   "execution_count": 184,
   "metadata": {},
   "outputs": [],
   "source": [
    "# Tweak this to affect the following output\n",
    "b = 138\n",
    "\n",
    "# Booleans for stimulation state\n",
    "filter_in_stim = False    # True = stim on data\n",
    "filter_out_stim = True    # True = stim off data"
   ]
  },
  {
   "cell_type": "code",
   "execution_count": 185,
   "metadata": {},
   "outputs": [
    {
     "name": "stderr",
     "output_type": "stream",
     "text": [
      "100%|██████████| 196/196 [00:17<00:00, 10.94it/s]\n"
     ]
    }
   ],
   "source": [
    "# Loop through all recordings and compile and\n",
    "# compile all LDA distances for a given stimulation state\n",
    "all_lda_distances = []\n",
    "for fp in tqdm(cl_data_files):\n",
    "    lda_dists = load_recording_and_calc_lda(fp,\n",
    "                                            b,\n",
    "                                            filter_out_stim,\n",
    "                                            filter_in_stim)\n",
    "    for lda_dist in lda_dists:\n",
    "        all_lda_distances.append(lda_dist)"
   ]
  },
  {
   "cell_type": "code",
   "execution_count": 186,
   "metadata": {},
   "outputs": [
    {
     "data": {
      "image/png": "[encoded data removed]",
      "text/plain": [
       "<Figure size 432x288 with 1 Axes>"
      ]
     },
     "metadata": {
      "needs_background": "light"
     },
     "output_type": "display_data"
    }
   ],
   "source": [
    "q1 = np.percentile(all_lda_distances, 25)\n",
    "q2 = np.percentile(all_lda_distances, 50)\n",
    "q3 = np.percentile(all_lda_distances, 75)\n",
    "plt.hist(all_lda_distances, bins=1000)\n",
    "plt.axvline(q2, color='red', linestyle='--')\n",
    "plt.ylim(0, 500)\n",
    "plt.xlabel('LDA Distance')\n",
    "plt.ylabel('Count')\n",
    "plt.title('Manual LDA Histogram \\n Weights: {} \\n b: {} \\n Q1: {} -- Median: {} -- Q3: {}'.format(weights, b, q1, q2, q3))\n",
    "plt.show()"
   ]
  },
  {
   "cell_type": "markdown",
   "metadata": {},
   "source": [
    "### Aside:  find applicable range of b values\n",
    "##### $x_1$ = 1 or 2 stds above mean value of feature channel during NO STIM\n",
    "##### $y_1$ = mean value of stim channel during NO STIM\n",
    "##### $x_2$ = mean value of feature channel during STIM\n",
    "##### $y_2$ = mean value of stim channel during STIM\n",
    "##### Find b such that the following inequalities are satisfied:\n",
    "##### $\\hspace{2cm} -[x_1w_x + y_1w_y - b] > 0$\n",
    "##### (want detector to turn on when feature channel input is sufficiently high)\n",
    "##### $\\hspace{2cm} -[x_2w_x + y_2w_y - b] < 0$  \n",
    "##### (want detector to turn off when stim is on)\n",
    "##### where $w_x$ = LDA weight for the feature channel and $w_y$ = LDA weight for the stim channel\n"
   ]
  },
  {
   "cell_type": "code",
   "execution_count": 164,
   "metadata": {},
   "outputs": [
    {
     "name": "stderr",
     "output_type": "stream",
     "text": [
      "100%|██████████| 196/196 [00:00<00:00, 265.18it/s]\n",
      "100%|██████████| 196/196 [00:00<00:00, 311.84it/s]\n"
     ]
    }
   ],
   "source": [
    "all_feature_ch_no_stim = [] # x1\n",
    "all_feature_ch_stim = []    # x2\n",
    "all_stim_ch_no_stim = []    # y1\n",
    "all_stim_ch_stim = []       # y2\n",
    "\n",
    "# No Stim\n",
    "for fp in tqdm(cl_data_files):\n",
    "    df = load_recording(fp,\n",
    "                    filter_out_stim=True,\n",
    "                    filter_in_stim=False,\n",
    "                    verbose=False)\n",
    "    all_stim_ch_no_stim.append(df['ch1'])\n",
    "    all_feature_ch_no_stim.append(df['ch3'])\n",
    "    \n",
    "# Stim \n",
    "for fp in tqdm(cl_data_files):\n",
    "    df = load_recording(fp,\n",
    "                    filter_out_stim=False,\n",
    "                    filter_in_stim=True,\n",
    "                    verbose=False)\n",
    "    all_stim_ch_stim.append(df['ch1'])\n",
    "    all_feature_ch_stim.append(df['ch3'])\n",
    "\n",
    "feature_ch_no_stim = pd.concat(all_feature_ch_no_stim)\n",
    "feature_ch_stim = pd.concat(all_feature_ch_stim)\n",
    "stim_ch_no_stim = pd.concat(all_stim_ch_no_stim)\n",
    "stim_ch_stim = pd.concat(all_stim_ch_stim)"
   ]
  },
  {
   "cell_type": "code",
   "execution_count": 179,
   "metadata": {},
   "outputs": [],
   "source": [
    "x1 = np.mean(feature_ch_no_stim) + np.std(feature_ch_no_stim)\n",
    "x2 = np.mean(feature_ch_stim)\n",
    "y1 = np.mean(stim_ch_no_stim)\n",
    "y2 = np.mean(stim_ch_stim)\n",
    "wx, wy = -1, 1"
   ]
  },
  {
   "cell_type": "code",
   "execution_count": 178,
   "metadata": {},
   "outputs": [
    {
     "name": "stdout",
     "output_type": "stream",
     "text": [
      "94.01 < b < 482.91\n"
     ]
    }
   ],
   "source": [
    "b_lb = x1*wx + y1*wy\n",
    "b_ub = x2*wx + y2*wy\n",
    "print('{} < b < {}'.format(np.round(b_lb, 2), np.round(b_ub, 2)))"
   ]
  },
  {
   "cell_type": "markdown",
   "metadata": {},
   "source": [
    "### To-do: optimize onset and offset durations "
   ]
  },
  {
   "cell_type": "code",
   "execution_count": null,
   "metadata": {},
   "outputs": [],
   "source": []
  }
 ],
 "metadata": {
  "kernelspec": {
   "display_name": "Python 3",
   "language": "python",
   "name": "python3"
  },
  "language_info": {
   "codemirror_mode": {
    "name": "ipython",
    "version": 3
   },
   "file_extension": ".py",
   "mimetype": "text/x-python",
   "name": "python",
   "nbconvert_exporter": "python",
   "pygments_lexer": "ipython3",
   "version": "3.6.10"
  }
 },
 "nbformat": 4,
 "nbformat_minor": 4
}
